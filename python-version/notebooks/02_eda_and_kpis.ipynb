{
 "cells": [
  {
   "cell_type": "code",
   "execution_count": 2,
   "metadata": {},
   "outputs": [],
   "source": [
    "import pandas as pd"
   ]
  },
  {
   "cell_type": "code",
   "execution_count": 4,
   "metadata": {},
   "outputs": [],
   "source": [
    "# Load cleaned data\n",
    "candidates = pd.read_csv('../../data/candidates.csv')\n",
    "employees = pd.read_csv('../outputs/summary_tables/employees_cleaned.csv')\n",
    "employments = pd.read_csv('../outputs/summary_tables/employments_cleaned.csv')\n",
    "positions = pd.read_csv('../../data/positions.csv')\n",
    "recruitments = pd.read_csv('../../data/recruitments.csv')"
   ]
  },
  {
   "cell_type": "code",
   "execution_count": 5,
   "metadata": {},
   "outputs": [],
   "source": [
    "# Standardize column names\n",
    "for df in [candidates, employees, employments, positions, recruitments]:\n",
    "    df.columns = df.columns.str.lower()"
   ]
  },
  {
   "cell_type": "code",
   "execution_count": 6,
   "metadata": {},
   "outputs": [
    {
     "name": "stdout",
     "output_type": "stream",
     "text": [
      "Recruitments columns: ['id', 'candidate_id', 'position_id', 'stage', 'stage_start_date', 'recruitment_channel', 'recruitment_cost', 'notes']\n",
      "Candidates columns: ['id', 'first_name', 'last_name', 'email', 'phone']\n",
      "Employees columns: ['id', 'first_name', 'last_name', 'gender', 'birth_date', 'hire_date', 'termination_date', 'status', 'position_id', 'manager_id']\n",
      "Employments columns: ['id', 'employee_id', 'position_id', 'start_date', 'salary', 'bonus', 'pension_contribution', 'vacation_allowance']\n",
      "Positions columns: ['id', 'title', 'job_level', 'department']\n"
     ]
    }
   ],
   "source": [
    "print(\"Recruitments columns:\", recruitments.columns.tolist())\n",
    "print(\"Candidates columns:\", candidates.columns.tolist())\n",
    "print(\"Employees columns:\", employees.columns.tolist())\n",
    "print(\"Employments columns:\", employments.columns.tolist())\n",
    "print(\"Positions columns:\", positions.columns.tolist())\n"
   ]
  },
  {
   "cell_type": "code",
   "execution_count": 7,
   "metadata": {},
   "outputs": [
    {
     "name": "stdout",
     "output_type": "stream",
     "text": [
      "['id', 'candidate_id', 'position_id', 'stage', 'stage_start_date', 'recruitment_channel', 'recruitment_cost', 'notes', 'id_candidate', 'first_name', 'last_name', 'email', 'phone']\n"
     ]
    }
   ],
   "source": [
    "# Merge recruitment with candidates\n",
    "recruit_df = pd.merge(\n",
    "    recruitments, \n",
    "    candidates, \n",
    "    how='left', \n",
    "    left_on='candidate_id', \n",
    "    right_on='id', \n",
    "    suffixes=('', '_candidate')\n",
    ")\n",
    "\n",
    "print(recruit_df.columns.tolist())"
   ]
  },
  {
   "cell_type": "code",
   "execution_count": 8,
   "metadata": {},
   "outputs": [
    {
     "name": "stdout",
     "output_type": "stream",
     "text": [
      "['id', 'candidate_id', 'position_id', 'stage', 'stage_start_date', 'recruitment_channel', 'recruitment_cost', 'notes', 'id_candidate', 'first_name', 'last_name', 'email', 'phone', 'title', 'job_level', 'department']\n"
     ]
    }
   ],
   "source": [
    "# Merge with positions to add job details\n",
    "recruit_df = pd.merge(\n",
    "    recruit_df,\n",
    "    positions,\n",
    "    how='left',\n",
    "    left_on='position_id',\n",
    "    right_on='id',\n",
    "    suffixes=('', '_position')\n",
    ")\n",
    "\n",
    "# Drop redundant position ID from positions table\n",
    "recruit_df.drop(columns=['id_position'], inplace=True)\n",
    "\n",
    "\n",
    "print(recruit_df.columns.tolist())\n"
   ]
  },
  {
   "cell_type": "code",
   "execution_count": 9,
   "metadata": {},
   "outputs": [],
   "source": [
    "# Convert to string to avoid merge issues\n",
    "recruit_df['candidate_id'] = recruit_df['candidate_id'].astype(str)\n",
    "employees['id'] = employees['id'].astype(str)\n",
    "\n",
    "# Add 'hired' flag\n",
    "recruit_df['hired'] = recruit_df['candidate_id'].isin(employees['id'])\n"
   ]
  },
  {
   "cell_type": "markdown",
   "metadata": {},
   "source": [
    "Average Recruitment Cost by Department"
   ]
  },
  {
   "cell_type": "code",
   "execution_count": 11,
   "metadata": {},
   "outputs": [
    {
     "data": {
      "text/html": [
       "<div>\n",
       "<style scoped>\n",
       "    .dataframe tbody tr th:only-of-type {\n",
       "        vertical-align: middle;\n",
       "    }\n",
       "\n",
       "    .dataframe tbody tr th {\n",
       "        vertical-align: top;\n",
       "    }\n",
       "\n",
       "    .dataframe thead th {\n",
       "        text-align: right;\n",
       "    }\n",
       "</style>\n",
       "<table border=\"1\" class=\"dataframe\">\n",
       "  <thead>\n",
       "    <tr style=\"text-align: right;\">\n",
       "      <th></th>\n",
       "      <th>department</th>\n",
       "      <th>recruitment_cost</th>\n",
       "    </tr>\n",
       "  </thead>\n",
       "  <tbody>\n",
       "    <tr>\n",
       "      <th>4</th>\n",
       "      <td>Management</td>\n",
       "      <td>2342.642857</td>\n",
       "    </tr>\n",
       "    <tr>\n",
       "      <th>0</th>\n",
       "      <td>Business Intelligence</td>\n",
       "      <td>2231.163265</td>\n",
       "    </tr>\n",
       "    <tr>\n",
       "      <th>1</th>\n",
       "      <td>Cybersecurity</td>\n",
       "      <td>2229.481818</td>\n",
       "    </tr>\n",
       "    <tr>\n",
       "      <th>3</th>\n",
       "      <td>Human Resources</td>\n",
       "      <td>2205.280899</td>\n",
       "    </tr>\n",
       "    <tr>\n",
       "      <th>5</th>\n",
       "      <td>Marketing</td>\n",
       "      <td>2196.483582</td>\n",
       "    </tr>\n",
       "  </tbody>\n",
       "</table>\n",
       "</div>"
      ],
      "text/plain": [
       "              department  recruitment_cost\n",
       "4             Management       2342.642857\n",
       "0  Business Intelligence       2231.163265\n",
       "1          Cybersecurity       2229.481818\n",
       "3        Human Resources       2205.280899\n",
       "5              Marketing       2196.483582"
      ]
     },
     "metadata": {},
     "output_type": "display_data"
    }
   ],
   "source": [
    "avg_cost = (\n",
    "    recruit_df.groupby('department')['recruitment_cost']\n",
    "    .mean()\n",
    "    .reset_index()\n",
    "    .sort_values(by='recruitment_cost', ascending=False)\n",
    ")\n",
    "\n",
    "display(avg_cost.head())\n"
   ]
  },
  {
   "cell_type": "code",
   "execution_count": null,
   "metadata": {},
   "outputs": [],
   "source": [
    "# Make sure output directory exists first\n",
    "import os\n",
    "os.makedirs('../../outputs/summary_tables', exist_ok=True)\n",
    "\n",
    "# Save summary tables\n",
    "avg_cost.to_csv('../outputs/summary_tables/recruitment_cost_by_department.csv', index=False)\n"
   ]
  },
  {
   "cell_type": "code",
   "execution_count": null,
   "metadata": {},
   "outputs": [],
   "source": [
    "# Convert date columns\n",
    "employees['hire_date'] = pd.to_datetime(employees['hire_date'], errors='coerce')\n",
    "employees['termination_date'] = pd.to_datetime(employees['termination_date'], errors='coerce')\n"
   ]
  },
  {
   "cell_type": "markdown",
   "metadata": {},
   "source": [
    "Employee Tenure"
   ]
  }
 ],
 "metadata": {
  "kernelspec": {
   "display_name": "myenv",
   "language": "python",
   "name": "python3"
  },
  "language_info": {
   "codemirror_mode": {
    "name": "ipython",
    "version": 3
   },
   "file_extension": ".py",
   "mimetype": "text/x-python",
   "name": "python",
   "nbconvert_exporter": "python",
   "pygments_lexer": "ipython3",
   "version": "3.9.20"
  }
 },
 "nbformat": 4,
 "nbformat_minor": 2
}
