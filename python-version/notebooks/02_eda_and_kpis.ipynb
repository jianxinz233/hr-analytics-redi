{
 "cells": [
  {
   "cell_type": "code",
   "execution_count": 2,
   "metadata": {},
   "outputs": [],
   "source": [
    "import pandas as pd"
   ]
  },
  {
   "cell_type": "code",
   "execution_count": 3,
   "metadata": {},
   "outputs": [],
   "source": [
    "# Load cleaned data\n",
    "candidates = pd.read_csv('../../data/candidates.csv')\n",
    "employees = pd.read_csv('../outputs/summary_tables/employees_cleaned.csv')\n",
    "employments = pd.read_csv('../outputs/summary_tables/employments_cleaned.csv')\n",
    "positions = pd.read_csv('../../data/positions.csv')\n",
    "recruitments = pd.read_csv('../../data/recruitments.csv')"
   ]
  },
  {
   "cell_type": "code",
   "execution_count": 5,
   "metadata": {},
   "outputs": [],
   "source": [
    "# Standardize column names\n",
    "for df in [candidates, employees, employments, positions, recruitments]:\n",
    "    df.columns = df.columns.str.lower()"
   ]
  },
  {
   "cell_type": "code",
   "execution_count": 6,
   "metadata": {},
   "outputs": [
    {
     "name": "stdout",
     "output_type": "stream",
     "text": [
      "Recruitments columns: ['id', 'candidate_id', 'position_id', 'stage', 'stage_start_date', 'recruitment_channel', 'recruitment_cost', 'notes']\n",
      "Candidates columns: ['id', 'first_name', 'last_name', 'email', 'phone']\n",
      "Employees columns: ['id', 'first_name', 'last_name', 'gender', 'birth_date', 'hire_date', 'termination_date', 'status', 'position_id', 'manager_id']\n",
      "Employments columns: ['id', 'employee_id', 'position_id', 'start_date', 'salary', 'bonus', 'pension_contribution', 'vacation_allowance']\n",
      "Positions columns: ['id', 'title', 'job_level', 'department']\n"
     ]
    }
   ],
   "source": [
    "print(\"Recruitments columns:\", recruitments.columns.tolist())\n",
    "print(\"Candidates columns:\", candidates.columns.tolist())\n",
    "print(\"Employees columns:\", employees.columns.tolist())\n",
    "print(\"Employments columns:\", employments.columns.tolist())\n",
    "print(\"Positions columns:\", positions.columns.tolist())\n"
   ]
  },
  {
   "cell_type": "code",
   "execution_count": 7,
   "metadata": {},
   "outputs": [
    {
     "name": "stdout",
     "output_type": "stream",
     "text": [
      "['id', 'candidate_id', 'position_id', 'stage', 'stage_start_date', 'recruitment_channel', 'recruitment_cost', 'notes', 'id_candidate', 'first_name', 'last_name', 'email', 'phone']\n"
     ]
    }
   ],
   "source": [
    "# Merge recruitment with candidates\n",
    "recruit_df = pd.merge(\n",
    "    recruitments, \n",
    "    candidates, \n",
    "    how='left', \n",
    "    left_on='candidate_id', \n",
    "    right_on='id', \n",
    "    suffixes=('', '_candidate')\n",
    ")\n",
    "\n",
    "print(recruit_df.columns.tolist())"
   ]
  },
  {
   "cell_type": "code",
   "execution_count": null,
   "metadata": {},
   "outputs": [
    {
     "name": "stdout",
     "output_type": "stream",
     "text": [
      "['id', 'candidate_id', 'position_id', 'stage', 'stage_start_date', 'recruitment_channel', 'recruitment_cost', 'notes', 'id_candidate', 'first_name', 'last_name', 'email', 'phone', 'title', 'job_level', 'department']\n"
     ]
    }
   ],
   "source": [
    "# Merge with positions to add job details\n",
    "recruit_df = pd.merge(\n",
    "    recruit_df,\n",
    "    positions,\n",
    "    how='left',\n",
    "    left_on='position_id',\n",
    "    right_on='id',\n",
    "    suffixes=('', '_position')\n",
    ")\n",
    "\n",
    "# Drop redundant position ID from positions table\n",
    "recruit_df.drop(columns=['id_position'], inplace=True)\n",
    "\n",
    "\n",
    "print(recruit_df.columns.tolist())"
   ]
  },
  {
   "cell_type": "code",
   "execution_count": null,
   "metadata": {},
   "outputs": [],
   "source": [
    "# Convert to string to avoid merge issues\n",
    "recruit_df['candidate_id'] = recruit_df['candidate_id'].astype(str)\n",
    "employees['id'] = employees['id'].astype(str)\n",
    "\n",
    "# Add 'hired' flag\n",
    "recruit_df['hired'] = recruit_df['candidate_id'].isin(employees['id'])"
   ]
  },
  {
   "cell_type": "markdown",
   "metadata": {},
   "source": [
    "Average Recruitment Cost by Department"
   ]
  },
  {
   "cell_type": "code",
   "execution_count": null,
   "metadata": {},
   "outputs": [
    {
     "data": {
      "text/html": [
       "<div>\n",
       "<style scoped>\n",
       "    .dataframe tbody tr th:only-of-type {\n",
       "        vertical-align: middle;\n",
       "    }\n",
       "\n",
       "    .dataframe tbody tr th {\n",
       "        vertical-align: top;\n",
       "    }\n",
       "\n",
       "    .dataframe thead th {\n",
       "        text-align: right;\n",
       "    }\n",
       "</style>\n",
       "<table border=\"1\" class=\"dataframe\">\n",
       "  <thead>\n",
       "    <tr style=\"text-align: right;\">\n",
       "      <th></th>\n",
       "      <th>department</th>\n",
       "      <th>recruitment_cost</th>\n",
       "    </tr>\n",
       "  </thead>\n",
       "  <tbody>\n",
       "    <tr>\n",
       "      <th>4</th>\n",
       "      <td>Management</td>\n",
       "      <td>2342.642857</td>\n",
       "    </tr>\n",
       "    <tr>\n",
       "      <th>0</th>\n",
       "      <td>Business Intelligence</td>\n",
       "      <td>2231.163265</td>\n",
       "    </tr>\n",
       "    <tr>\n",
       "      <th>1</th>\n",
       "      <td>Cybersecurity</td>\n",
       "      <td>2229.481818</td>\n",
       "    </tr>\n",
       "    <tr>\n",
       "      <th>3</th>\n",
       "      <td>Human Resources</td>\n",
       "      <td>2205.280899</td>\n",
       "    </tr>\n",
       "    <tr>\n",
       "      <th>5</th>\n",
       "      <td>Marketing</td>\n",
       "      <td>2196.483582</td>\n",
       "    </tr>\n",
       "  </tbody>\n",
       "</table>\n",
       "</div>"
      ],
      "text/plain": [
       "              department  recruitment_cost\n",
       "4             Management       2342.642857\n",
       "0  Business Intelligence       2231.163265\n",
       "1          Cybersecurity       2229.481818\n",
       "3        Human Resources       2205.280899\n",
       "5              Marketing       2196.483582"
      ]
     },
     "metadata": {},
     "output_type": "display_data"
    }
   ],
   "source": [
    "avg_cost = (\n",
    "    recruit_df.groupby('department')['recruitment_cost']\n",
    "    .mean()\n",
    "    .reset_index()\n",
    "    .sort_values(by='recruitment_cost', ascending=False)\n",
    ")\n",
    "\n",
    "display(avg_cost.head())"
   ]
  },
  {
   "cell_type": "code",
   "execution_count": null,
   "metadata": {},
   "outputs": [],
   "source": [
    "# Make sure output directory exists first\n",
    "import os\n",
    "os.makedirs('../../outputs/summary_tables', exist_ok=True)\n",
    "\n",
    "# Save summary tables\n",
    "avg_cost.to_csv('../outputs/summary_tables/recruitment_cost_by_department.csv', index=False)"
   ]
  },
  {
   "cell_type": "code",
   "execution_count": null,
   "metadata": {},
   "outputs": [],
   "source": [
    "# Convert date columns\n",
    "employees['hire_date'] = pd.to_datetime(employees['hire_date'], errors='coerce')\n",
    "employees['termination_date'] = pd.to_datetime(employees['termination_date'], errors='coerce')"
   ]
  },
  {
   "cell_type": "markdown",
   "metadata": {},
   "source": [
    "Employee Tenure"
   ]
  },
  {
   "cell_type": "code",
   "execution_count": 18,
   "metadata": {},
   "outputs": [],
   "source": [
    "# Convert date columns\n",
    "employees['hire_date'] = pd.to_datetime(employees['hire_date'], errors='coerce')\n",
    "employees['termination_date'] = pd.to_datetime(employees['termination_date'], errors='coerce')"
   ]
  },
  {
   "cell_type": "code",
   "execution_count": 19,
   "metadata": {},
   "outputs": [],
   "source": [
    "# Define reference date for active employees\n",
    "reference_date = pd.to_datetime('2024-12-31')"
   ]
  },
  {
   "cell_type": "code",
   "execution_count": 20,
   "metadata": {},
   "outputs": [],
   "source": [
    "# Tenure calculation\n",
    "employees['tenure_days'] = (\n",
    "    employees['termination_date'].fillna(reference_date) - employees['hire_date']\n",
    ").dt.days\n",
    "\n",
    "employees['tenure_years'] = employees['tenure_days'] / 365"
   ]
  },
  {
   "cell_type": "code",
   "execution_count": 21,
   "metadata": {},
   "outputs": [],
   "source": [
    "# Merge employees with positions to get department\n",
    "emp_with_dept = pd.merge(\n",
    "    employees,\n",
    "    positions[['id', 'department']],\n",
    "    left_on='position_id',\n",
    "    right_on='id',\n",
    "    how='left',\n",
    "    suffixes=('', '_pos')\n",
    ")\n",
    "\n",
    "# Drop extra column if needed\n",
    "emp_with_dept.drop(columns=['id_pos'], inplace=True)"
   ]
  },
  {
   "cell_type": "code",
   "execution_count": 22,
   "metadata": {},
   "outputs": [
    {
     "data": {
      "text/html": [
       "<div>\n",
       "<style scoped>\n",
       "    .dataframe tbody tr th:only-of-type {\n",
       "        vertical-align: middle;\n",
       "    }\n",
       "\n",
       "    .dataframe tbody tr th {\n",
       "        vertical-align: top;\n",
       "    }\n",
       "\n",
       "    .dataframe thead th {\n",
       "        text-align: right;\n",
       "    }\n",
       "</style>\n",
       "<table border=\"1\" class=\"dataframe\">\n",
       "  <thead>\n",
       "    <tr style=\"text-align: right;\">\n",
       "      <th></th>\n",
       "      <th>department</th>\n",
       "      <th>tenure_years</th>\n",
       "    </tr>\n",
       "  </thead>\n",
       "  <tbody>\n",
       "    <tr>\n",
       "      <th>3</th>\n",
       "      <td>Human Resources</td>\n",
       "      <td>11.633425</td>\n",
       "    </tr>\n",
       "    <tr>\n",
       "      <th>2</th>\n",
       "      <td>Finance</td>\n",
       "      <td>9.413699</td>\n",
       "    </tr>\n",
       "    <tr>\n",
       "      <th>4</th>\n",
       "      <td>Management</td>\n",
       "      <td>8.547945</td>\n",
       "    </tr>\n",
       "    <tr>\n",
       "      <th>0</th>\n",
       "      <td>Business Intelligence</td>\n",
       "      <td>8.135642</td>\n",
       "    </tr>\n",
       "    <tr>\n",
       "      <th>6</th>\n",
       "      <td>Product Development</td>\n",
       "      <td>4.715215</td>\n",
       "    </tr>\n",
       "  </tbody>\n",
       "</table>\n",
       "</div>"
      ],
      "text/plain": [
       "              department  tenure_years\n",
       "3        Human Resources     11.633425\n",
       "2                Finance      9.413699\n",
       "4             Management      8.547945\n",
       "0  Business Intelligence      8.135642\n",
       "6    Product Development      4.715215"
      ]
     },
     "metadata": {},
     "output_type": "display_data"
    }
   ],
   "source": [
    "tenure_by_dept = (\n",
    "    emp_with_dept\n",
    "    .groupby('department')['tenure_years']\n",
    "    .mean()\n",
    "    .reset_index()\n",
    "    .sort_values(by='tenure_years', ascending=False)\n",
    ")\n",
    "\n",
    "display(tenure_by_dept.head())"
   ]
  },
  {
   "cell_type": "code",
   "execution_count": 23,
   "metadata": {},
   "outputs": [],
   "source": [
    "# Save to CSV\n",
    "tenure_by_dept.to_csv('../../outputs/summary_tables/tenure_by_department.csv', index=False)"
   ]
  },
  {
   "cell_type": "markdown",
   "metadata": {},
   "source": [
    "Turnover and Retention Rate"
   ]
  },
  {
   "cell_type": "code",
   "execution_count": null,
   "metadata": {},
   "outputs": [],
   "source": [
    "# Ensure status column is clean\n",
    "employees['status'] = employees['status'].str.strip().str.lower()\n",
    "\n",
    "# Create flags\n",
    "employees['is_active'] = employees['status'] == 'active'\n",
    "employees['is_terminated'] = employees['termination_date'].notnull()"
   ]
  },
  {
   "cell_type": "code",
   "execution_count": 5,
   "metadata": {},
   "outputs": [],
   "source": [
    "total_employees = len(employees)\n",
    "total_terminated = employees['is_terminated'].sum()\n",
    "total_active = employees['is_active'].sum()\n",
    "\n",
    "turnover_rate = total_terminated / total_employees\n",
    "retention_rate = total_active / total_employees"
   ]
  },
  {
   "cell_type": "code",
   "execution_count": 6,
   "metadata": {},
   "outputs": [
    {
     "name": "stdout",
     "output_type": "stream",
     "text": [
      "Total employees: 438\n",
      "Terminated: 277 ➜ Turnover rate: 63.24%\n",
      "Active: 161 ➜ Retention rate: 36.76%\n"
     ]
    }
   ],
   "source": [
    "print(f\"Total employees: {total_employees}\")\n",
    "print(f\"Terminated: {total_terminated} ➜ Turnover rate: {turnover_rate:.2%}\")\n",
    "print(f\"Active: {total_active} ➜ Retention rate: {retention_rate:.2%}\")"
   ]
  },
  {
   "cell_type": "code",
   "execution_count": 7,
   "metadata": {},
   "outputs": [
    {
     "data": {
      "text/html": [
       "<div>\n",
       "<style scoped>\n",
       "    .dataframe tbody tr th:only-of-type {\n",
       "        vertical-align: middle;\n",
       "    }\n",
       "\n",
       "    .dataframe tbody tr th {\n",
       "        vertical-align: top;\n",
       "    }\n",
       "\n",
       "    .dataframe thead th {\n",
       "        text-align: right;\n",
       "    }\n",
       "</style>\n",
       "<table border=\"1\" class=\"dataframe\">\n",
       "  <thead>\n",
       "    <tr style=\"text-align: right;\">\n",
       "      <th></th>\n",
       "      <th>department</th>\n",
       "      <th>total</th>\n",
       "      <th>terminated</th>\n",
       "      <th>active</th>\n",
       "      <th>turnover_rate</th>\n",
       "      <th>retention_rate</th>\n",
       "    </tr>\n",
       "  </thead>\n",
       "  <tbody>\n",
       "    <tr>\n",
       "      <th>6</th>\n",
       "      <td>Product Development</td>\n",
       "      <td>299</td>\n",
       "      <td>216</td>\n",
       "      <td>83</td>\n",
       "      <td>0.722408</td>\n",
       "      <td>0.277592</td>\n",
       "    </tr>\n",
       "    <tr>\n",
       "      <th>5</th>\n",
       "      <td>Marketing</td>\n",
       "      <td>33</td>\n",
       "      <td>23</td>\n",
       "      <td>10</td>\n",
       "      <td>0.696970</td>\n",
       "      <td>0.303030</td>\n",
       "    </tr>\n",
       "    <tr>\n",
       "      <th>1</th>\n",
       "      <td>Cybersecurity</td>\n",
       "      <td>31</td>\n",
       "      <td>20</td>\n",
       "      <td>11</td>\n",
       "      <td>0.645161</td>\n",
       "      <td>0.354839</td>\n",
       "    </tr>\n",
       "    <tr>\n",
       "      <th>2</th>\n",
       "      <td>Finance</td>\n",
       "      <td>10</td>\n",
       "      <td>6</td>\n",
       "      <td>4</td>\n",
       "      <td>0.600000</td>\n",
       "      <td>0.400000</td>\n",
       "    </tr>\n",
       "    <tr>\n",
       "      <th>0</th>\n",
       "      <td>Business Intelligence</td>\n",
       "      <td>53</td>\n",
       "      <td>12</td>\n",
       "      <td>41</td>\n",
       "      <td>0.226415</td>\n",
       "      <td>0.773585</td>\n",
       "    </tr>\n",
       "  </tbody>\n",
       "</table>\n",
       "</div>"
      ],
      "text/plain": [
       "              department  total  terminated  active  turnover_rate  \\\n",
       "6    Product Development    299         216      83       0.722408   \n",
       "5              Marketing     33          23      10       0.696970   \n",
       "1          Cybersecurity     31          20      11       0.645161   \n",
       "2                Finance     10           6       4       0.600000   \n",
       "0  Business Intelligence     53          12      41       0.226415   \n",
       "\n",
       "   retention_rate  \n",
       "6        0.277592  \n",
       "5        0.303030  \n",
       "1        0.354839  \n",
       "2        0.400000  \n",
       "0        0.773585  "
      ]
     },
     "metadata": {},
     "output_type": "display_data"
    }
   ],
   "source": [
    "# Join with positions to get department info\n",
    "emp_with_dept = pd.merge(\n",
    "    employees,\n",
    "    positions[['id', 'department']],\n",
    "    left_on='position_id',\n",
    "    right_on='id',\n",
    "    how='left',\n",
    "    suffixes=('', '_pos')\n",
    ")\n",
    "\n",
    "# Aggregate by department\n",
    "dept_stats = (\n",
    "    emp_with_dept.groupby('department')\n",
    "    .agg(\n",
    "        total=('id', 'count'),\n",
    "        terminated=('is_terminated', 'sum'),\n",
    "        active=('is_active', 'sum')\n",
    "    )\n",
    "    .assign(\n",
    "        turnover_rate=lambda df: df['terminated'] / df['total'],\n",
    "        retention_rate=lambda df: df['active'] / df['total']\n",
    "    )\n",
    "    .reset_index()\n",
    "    .sort_values(by='turnover_rate', ascending=False)\n",
    ")\n",
    "\n",
    "display(dept_stats.head())"
   ]
  },
  {
   "cell_type": "code",
   "execution_count": 8,
   "metadata": {},
   "outputs": [],
   "source": [
    "dept_stats.to_csv('../outputs/summary_tables/turnover_retention_by_department.csv', index=False)"
   ]
  },
  {
   "cell_type": "markdown",
   "metadata": {},
   "source": [
    "Salary Analysis"
   ]
  },
  {
   "cell_type": "code",
   "execution_count": 9,
   "metadata": {},
   "outputs": [],
   "source": [
    "# Merge employment with positions\n",
    "salary_df = pd.merge(\n",
    "    employments,\n",
    "    positions[['id', 'department', 'job_level', 'title']],\n",
    "    left_on='position_id',\n",
    "    right_on='id',\n",
    "    how='left',\n",
    "    suffixes=('', '_pos')\n",
    ")"
   ]
  },
  {
   "cell_type": "code",
   "execution_count": 10,
   "metadata": {},
   "outputs": [
    {
     "name": "stdout",
     "output_type": "stream",
     "text": [
      "count      2575.000000\n",
      "mean      54745.950753\n",
      "std       22444.784126\n",
      "min       30001.000000\n",
      "25%       40554.015000\n",
      "50%       47969.970000\n",
      "75%       59918.340000\n",
      "max      205058.850000\n",
      "Name: salary, dtype: float64\n"
     ]
    }
   ],
   "source": [
    "# Salary summary\n",
    "salary_stats = salary_df['salary'].describe()\n",
    "print(salary_stats)"
   ]
  },
  {
   "cell_type": "code",
   "execution_count": null,
   "metadata": {},
   "outputs": [
    {
     "data": {
      "text/html": [
       "<div>\n",
       "<style scoped>\n",
       "    .dataframe tbody tr th:only-of-type {\n",
       "        vertical-align: middle;\n",
       "    }\n",
       "\n",
       "    .dataframe tbody tr th {\n",
       "        vertical-align: top;\n",
       "    }\n",
       "\n",
       "    .dataframe thead th {\n",
       "        text-align: right;\n",
       "    }\n",
       "</style>\n",
       "<table border=\"1\" class=\"dataframe\">\n",
       "  <thead>\n",
       "    <tr style=\"text-align: right;\">\n",
       "      <th></th>\n",
       "      <th>department</th>\n",
       "      <th>salary</th>\n",
       "    </tr>\n",
       "  </thead>\n",
       "  <tbody>\n",
       "    <tr>\n",
       "      <th>4</th>\n",
       "      <td>Management</td>\n",
       "      <td>102357.338889</td>\n",
       "    </tr>\n",
       "    <tr>\n",
       "      <th>0</th>\n",
       "      <td>Business Intelligence</td>\n",
       "      <td>76985.902511</td>\n",
       "    </tr>\n",
       "    <tr>\n",
       "      <th>2</th>\n",
       "      <td>Finance</td>\n",
       "      <td>73710.188081</td>\n",
       "    </tr>\n",
       "    <tr>\n",
       "      <th>1</th>\n",
       "      <td>Cybersecurity</td>\n",
       "      <td>56371.509481</td>\n",
       "    </tr>\n",
       "    <tr>\n",
       "      <th>3</th>\n",
       "      <td>Human Resources</td>\n",
       "      <td>49815.801167</td>\n",
       "    </tr>\n",
       "  </tbody>\n",
       "</table>\n",
       "</div>"
      ],
      "text/plain": [
       "              department         salary\n",
       "4             Management  102357.338889\n",
       "0  Business Intelligence   76985.902511\n",
       "2                Finance   73710.188081\n",
       "1          Cybersecurity   56371.509481\n",
       "3        Human Resources   49815.801167"
      ]
     },
     "metadata": {},
     "output_type": "display_data"
    }
   ],
   "source": [
    "# Average salary by department\n",
    "salary_by_dept = (\n",
    "    salary_df\n",
    "    .groupby('department')['salary']\n",
    "    .mean()\n",
    "    .reset_index()\n",
    "    .sort_values(by='salary', ascending=False)\n",
    ")\n",
    "\n",
    "display(salary_by_dept.head())"
   ]
  },
  {
   "cell_type": "code",
   "execution_count": 12,
   "metadata": {},
   "outputs": [
    {
     "data": {
      "text/html": [
       "<div>\n",
       "<style scoped>\n",
       "    .dataframe tbody tr th:only-of-type {\n",
       "        vertical-align: middle;\n",
       "    }\n",
       "\n",
       "    .dataframe tbody tr th {\n",
       "        vertical-align: top;\n",
       "    }\n",
       "\n",
       "    .dataframe thead th {\n",
       "        text-align: right;\n",
       "    }\n",
       "</style>\n",
       "<table border=\"1\" class=\"dataframe\">\n",
       "  <thead>\n",
       "    <tr style=\"text-align: right;\">\n",
       "      <th></th>\n",
       "      <th>job_level</th>\n",
       "      <th>salary</th>\n",
       "    </tr>\n",
       "  </thead>\n",
       "  <tbody>\n",
       "    <tr>\n",
       "      <th>0</th>\n",
       "      <td>0</td>\n",
       "      <td>83865.252222</td>\n",
       "    </tr>\n",
       "    <tr>\n",
       "      <th>4</th>\n",
       "      <td>4</td>\n",
       "      <td>75596.543978</td>\n",
       "    </tr>\n",
       "    <tr>\n",
       "      <th>3</th>\n",
       "      <td>3</td>\n",
       "      <td>66485.746146</td>\n",
       "    </tr>\n",
       "    <tr>\n",
       "      <th>2</th>\n",
       "      <td>2</td>\n",
       "      <td>50130.585892</td>\n",
       "    </tr>\n",
       "    <tr>\n",
       "      <th>1</th>\n",
       "      <td>1</td>\n",
       "      <td>37899.350578</td>\n",
       "    </tr>\n",
       "  </tbody>\n",
       "</table>\n",
       "</div>"
      ],
      "text/plain": [
       "   job_level        salary\n",
       "0          0  83865.252222\n",
       "4          4  75596.543978\n",
       "3          3  66485.746146\n",
       "2          2  50130.585892\n",
       "1          1  37899.350578"
      ]
     },
     "metadata": {},
     "output_type": "display_data"
    }
   ],
   "source": [
    "# Average salary by job level\n",
    "salary_by_level = (\n",
    "    salary_df\n",
    "    .groupby('job_level')['salary']\n",
    "    .mean()\n",
    "    .reset_index()\n",
    "    .sort_values(by='salary', ascending=False)\n",
    ")\n",
    "\n",
    "display(salary_by_level.head())"
   ]
  },
  {
   "cell_type": "code",
   "execution_count": 13,
   "metadata": {},
   "outputs": [],
   "source": [
    "salary_by_dept.to_csv('../outputs/summary_tables/salary_by_department.csv', index=False)\n",
    "salary_by_level.to_csv('../outputs/summary_tables/salary_by_job_level.csv', index=False)"
   ]
  }
 ],
 "metadata": {
  "kernelspec": {
   "display_name": "myenv",
   "language": "python",
   "name": "python3"
  },
  "language_info": {
   "codemirror_mode": {
    "name": "ipython",
    "version": 3
   },
   "file_extension": ".py",
   "mimetype": "text/x-python",
   "name": "python",
   "nbconvert_exporter": "python",
   "pygments_lexer": "ipython3",
   "version": "3.9.20"
  }
 },
 "nbformat": 4,
 "nbformat_minor": 2
}
